{
 "cells": [
  {
   "cell_type": "markdown",
   "metadata": {},
   "source": [
    "# **BEST TAGSET (BIO, IO, BIOW)**"
   ]
  },
  {
   "cell_type": "markdown",
   "metadata": {},
   "source": [
    "## **INITIALIZATION and setup**"
   ]
  },
  {
   "cell_type": "code",
   "execution_count": null,
   "metadata": {},
   "outputs": [],
   "source": [
    "import numpy as np\n",
    "import spacy\n",
    "import nltk\n",
    "import svgling\n",
    "import seaborn as sns\n",
    "import matplotlib.pyplot as plt\n",
    "import pandas as pd\n",
    "from complete_class import CompleteNER"
   ]
  },
  {
   "cell_type": "code",
   "execution_count": null,
   "metadata": {},
   "outputs": [],
   "source": [
    "nltk.download('conll2002')\n",
    "from nltk.corpus import conll2002\n",
    "\n",
    "# Spanish\n",
    "train_esp = conll2002.iob_sents('esp.train') # Train\n",
    "val_esp = conll2002.iob_sents('esp.testa') # Val\n",
    "test_esp = conll2002.iob_sents('esp.testb') # Test\n",
    "# Dutch\n",
    "train_ned = conll2002.iob_sents('ned.train') # Train\n",
    "val_ned = conll2002.iob_sents('ned.testa') # Val\n",
    "test_ned = conll2002.iob_sents('ned.testb') # Test"
   ]
  },
  {
   "cell_type": "markdown",
   "metadata": {},
   "source": [
    "## **Find the best tagset method**"
   ]
  },
  {
   "cell_type": "code",
   "execution_count": null,
   "metadata": {},
   "outputs": [],
   "source": [
    "methods = [\"bio\", \"io\", \"biow\"]"
   ]
  },
  {
   "cell_type": "code",
   "execution_count": null,
   "metadata": {},
   "outputs": [],
   "source": [
    "results = pd.DataFrame(columns=[\"Model\", \"Precision\", \"Recall\", \"F1\", \"Errors\", \"Accuracy\"])"
   ]
  },
  {
   "cell_type": "code",
   "execution_count": null,
   "metadata": {},
   "outputs": [],
   "source": [
    "for m in methods:\n",
    "    spanish = CompleteNER(train_esp, val_esp, test_esp, language=\"esp\", postag=True, method=m)\n",
    "    nederlands = CompleteNER(train_ned, val_ned, test_ned, language=\"ned\", postag=True, method=m)\n",
    "    spanish.train(verbose=False, file=f\"./models/spanish_{m}.mdl\")\n",
    "    nederlands.train(verbose=False, file=f\"./models/nederlands_{m}.mdl\")\n",
    "    precision_es, recall_es, f1_es, err_es, default_acc_es, matrix_es = spanish.validation()\n",
    "    precision_ned, recall_ned, f1_ned, err_ned, default_acc_ned, matrix_ned = nederlands.validation()\n",
    "    \n",
    "\n",
    "    iteration = pd.DataFrame([[f\"{m}_esp\", precision_es, recall_es, f1_es, err_es, default_acc_es], [f\"{m}_ned\", precision_ned, recall_ned, f1_ned, err_ned, default_acc_ned]],columns=[\"Model\", \"Precision\", \"Recall\", \"F1\", \"Errors\", \"Accuracy\"])\n",
    "    results.append(iteration)"
   ]
  },
  {
   "cell_type": "code",
   "execution_count": null,
   "metadata": {},
   "outputs": [],
   "source": [
    "results.to_csv(\"./data/results/tagset_results.csv\")"
   ]
  }
 ],
 "metadata": {
  "language_info": {
   "name": "python"
  }
 },
 "nbformat": 4,
 "nbformat_minor": 2
}
